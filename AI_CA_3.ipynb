{
  "nbformat": 4,
  "nbformat_minor": 0,
  "metadata": {
    "colab": {
      "name": "AI-CA#3.ipynb",
      "provenance": [],
      "collapsed_sections": [],
      "toc_visible": true
    },
    "kernelspec": {
      "name": "python3",
      "display_name": "Python 3"
    }
  },
  "cells": [
    {
      "cell_type": "markdown",
      "metadata": {
        "id": "vcn79szBXT2d",
        "colab_type": "text"
      },
      "source": [
        "## Imports"
      ]
    },
    {
      "cell_type": "code",
      "metadata": {
        "id": "CESPF9PqXWej",
        "colab_type": "code",
        "colab": {}
      },
      "source": [
        "import pandas as pd\n",
        "from sklearn.model_selection import train_test_split\n",
        "from sklearn.datasets import load_iris"
      ],
      "execution_count": 0,
      "outputs": []
    },
    {
      "cell_type": "markdown",
      "metadata": {
        "id": "YMUdBVkILiT1",
        "colab_type": "text"
      },
      "source": [
        "## reading from train_test csv file"
      ]
    },
    {
      "cell_type": "code",
      "metadata": {
        "id": "5R5QRkS96Az8",
        "colab_type": "code",
        "colab": {}
      },
      "source": [
        "data = pd.read_csv(\"train_test.csv\")"
      ],
      "execution_count": 0,
      "outputs": []
    },
    {
      "cell_type": "markdown",
      "metadata": {
        "id": "3Vhbr-3aSfpk",
        "colab_type": "text"
      },
      "source": [
        "با استفاده از دستور\n",
        "read_csv\n",
        "فایل ترین را می‌خوانیم."
      ]
    },
    {
      "cell_type": "markdown",
      "metadata": {
        "id": "lD5F1oejXGEM",
        "colab_type": "text"
      },
      "source": [
        "## split data into train and test dataframes"
      ]
    },
    {
      "cell_type": "code",
      "metadata": {
        "id": "2kSikzH_XMfZ",
        "colab_type": "code",
        "colab": {}
      },
      "source": [
        "dataTrain, dataTest = train_test_split(data, test_size=0.2)"
      ],
      "execution_count": 0,
      "outputs": []
    },
    {
      "cell_type": "markdown",
      "metadata": {
        "id": "tUG26hviLrlY",
        "colab_type": "text"
      },
      "source": [
        "## split poems by poets and count number of words for each poet"
      ]
    },
    {
      "cell_type": "code",
      "metadata": {
        "id": "JbxzrRtR6KpE",
        "colab_type": "code",
        "colab": {}
      },
      "source": [
        "hafezPoems, saadiPoems, uniqueWords = {}, {}, {}\n",
        "hafezPoetNum, saadiPoetNum = 0, 0\n",
        "\n",
        "for i in dataTrain.index:\n",
        "  if dataTrain[\"label\"][i] == \"hafez\":\n",
        "    hafez = dataTrain[\"text\"][i].split()\n",
        "    hafezPoetNum += 1\n",
        "    for word in hafez:\n",
        "      if word in uniqueWords:\n",
        "        uniqueWords[word] = uniqueWords[word] + 1\n",
        "      else:\n",
        "        uniqueWords[word] = 1\n",
        "      if word in hafezPoems:\n",
        "        hafezPoems[word] = hafezPoems[word] + 1\n",
        "      else:\n",
        "        hafezPoems[word] = 1\n",
        "  else:\n",
        "    saadi = dataTrain[\"text\"][i].split()\n",
        "    saadiPoetNum += 1\n",
        "    for word in saadi:\n",
        "      if word in uniqueWords:\n",
        "        uniqueWords[word] = uniqueWords[word] + 1\n",
        "      else:\n",
        "        uniqueWords[word] = 1\n",
        "      if word in saadiPoems:\n",
        "        saadiPoems[word] = saadiPoems[word] + 1\n",
        "      else:\n",
        "        saadiPoems[word] = 1"
      ],
      "execution_count": 0,
      "outputs": []
    },
    {
      "cell_type": "markdown",
      "metadata": {
        "id": "ZwCPGJTsSx7S",
        "colab_type": "text"
      },
      "source": [
        "با ایتریت کردن روی دیتاستی که خواندیم (دو ستون تکست و لیبل دارد)، تعداد شعرهای حافظ و تعداد شعرهای سعدی و همچنین تعداد تکرار هرکلمه در شعرهای حافظ و تعداد تکرار هرکلمه در شعرهای سعدی، و تعداد کل کلمه‌‌هایی که در کل دیتاست ترین ما قرار دارد را به دست می‌آوریم و در دیکشنری‌های مختلف نگه می‌داریم."
      ]
    },
    {
      "cell_type": "markdown",
      "metadata": {
        "id": "XnjfSmOIMB5U",
        "colab_type": "text"
      },
      "source": [
        "## hafezLikeliHood and saadiLikeliHood"
      ]
    },
    {
      "cell_type": "code",
      "metadata": {
        "id": "0ig6qGV0OtPH",
        "colab_type": "code",
        "colab": {}
      },
      "source": [
        "hafezLikeliHood, saadiLikeliHood = {}, {}\n",
        "hafezWordNum = sum(hafezPoems.values())\n",
        "saadiWordNum = sum(saadiPoems.values())\n",
        "for word in hafezPoems:\n",
        "  hafezLikeliHood[word] = hafezPoems[word] / hafezWordNum\n",
        "for word in saadiPoems:\n",
        "  saadiLikeliHood[word] = saadiPoems[word] / saadiWordNum"
      ],
      "execution_count": 0,
      "outputs": []
    },
    {
      "cell_type": "markdown",
      "metadata": {
        "id": "uUzqC3zFTlv7",
        "colab_type": "text"
      },
      "source": [
        "با جمع کردن تعداد تکرار تمام کلمات به کار رفته در شعرهای حافظ و سعدی به طور جداگانه، تعداد کل کلمات سعدی و حافظ را به دست می‌آوریم. سپس با ایتریت کردن روی تعداد کلمات یونیک حافظ و سعدی و تقسیم تعداد تکرار آن‌ها بر تعداد کل کلمه‌های آن شاعر، احتمال شرطی کلمه به شرط شاعر را به دست می‌آوریم."
      ]
    },
    {
      "cell_type": "markdown",
      "metadata": {
        "id": "NekutO-fQZNb",
        "colab_type": "text"
      },
      "source": [
        "## Prior Probability"
      ]
    },
    {
      "cell_type": "code",
      "metadata": {
        "id": "4lzkUVgnQYuu",
        "colab_type": "code",
        "colab": {}
      },
      "source": [
        "poetNum = len(dataTrain)\n",
        "hafezPriorProb = hafezPoetNum / poetNum\n",
        "saadiPriorProb = saadiPoetNum / poetNum"
      ],
      "execution_count": 0,
      "outputs": []
    },
    {
      "cell_type": "markdown",
      "metadata": {
        "id": "n760re4KUkz-",
        "colab_type": "text"
      },
      "source": [
        "احتمال پرایور حافظ و سعدی از تقسیم تعداد شعرهای حافظ بر کل تعداد شعرهای داخل دیتاست و تعداد شعرهای سعدی بر کل تعداد شعرهای داخل دیتاست به دست می‌آید."
      ]
    },
    {
      "cell_type": "markdown",
      "metadata": {
        "id": "7iS0qB9khERl",
        "colab_type": "text"
      },
      "source": [
        "## Laplace"
      ]
    },
    {
      "cell_type": "code",
      "metadata": {
        "id": "cHq9rczzhI2J",
        "colab_type": "code",
        "colab": {}
      },
      "source": [
        "def laplace(testPoem, alpha):\n",
        "  hafezProb, saadiProb = 1, 1\n",
        "  hafezLaplaceProb, saadiLaplaceProb = [], []\n",
        "\n",
        "  for word in testPoem:\n",
        "    if word in hafezPoems:\n",
        "      hafezLaplaceProb.append((hafezPoems[word] + alpha) / ((len(uniqueWords)*alpha) + hafezWordNum))\n",
        "    else:\n",
        "      hafezLaplaceProb.append(alpha / ((len(uniqueWords)*alpha) + hafezWordNum))\n",
        "  for prob in hafezLaplaceProb:\n",
        "    hafezProb *= prob\n",
        "\n",
        "  for word in testPoem:\n",
        "    if word in saadiPoems:\n",
        "      saadiLaplaceProb.append((saadiPoems[word] + alpha) / ((len(uniqueWords)*alpha) + saadiWordNum))\n",
        "    else:\n",
        "      saadiLaplaceProb.append(alpha / ((len(uniqueWords)*alpha) + saadiWordNum))\n",
        "  for prob in saadiLaplaceProb:\n",
        "    saadiProb *= prob\n",
        "  \n",
        "  return hafezProb, saadiProb\n"
      ],
      "execution_count": 0,
      "outputs": []
    },
    {
      "cell_type": "markdown",
      "metadata": {
        "id": "gPYXZZ_68QkM",
        "colab_type": "text"
      },
      "source": [
        "در حالتی که یکی از شاعران کلمه‌ای که در بیت تست می‌آید را کلا ندیده باشد و در دیتاستش قرار نداشته باشد از بهبود‌دهنده‌ی لاپلاس استفاده می‌کنیم. در حالت قبل در این حالت‌ها احتمال شرطی تکرار کلمه به شرط شاعر را صفر در نظر می‌گرفتیم. اما حالا برای اینکه آن را بهتر کنیم تعداد تکرار این کلمات در دیتاست آن شاعر را آلفا درنظر می‌گیریم. آلفا را عدد کوچکی می‌دهیم که عملا در دیتاست و احتمال بقیه‌ی کلمات تاثیری نگذارد.\n",
        "حال برای آنکه بتوانیم احتمال پوستریر هر شاعر را حساب کنیم نیاز است که احتمال جمع تمام این احتمال‌های شرطی یک شوند. بنابراین باید احتمال بقیه‌ی کلمات داخل دیتاست را هم تغییر دهیم. درواقع به تمام کلمات داخل دیتاست هم مقدار آلفا اضافه می‌کنیم و دوباره احتمال پوستریر شعرا را حساب می‌کنیم و با یکدیگر مقایسه می‌کنیم."
      ]
    },
    {
      "cell_type": "markdown",
      "metadata": {
        "id": "8-TYkYNJhGab",
        "colab_type": "text"
      },
      "source": [
        "##Without Laplace"
      ]
    },
    {
      "cell_type": "code",
      "metadata": {
        "id": "1-AgB5nCoLtT",
        "colab_type": "code",
        "colab": {}
      },
      "source": [
        "def withoutLaplace(testPoem):\n",
        "  hafezProb, saadiProb = 1, 1\n",
        "  for word in testPoem:\n",
        "    if word not in hafezPoems and word not in saadiPoems:\n",
        "      continue\n",
        "    if word in hafezPoems:\n",
        "      hafezProb *= hafezLikeliHood[word]\n",
        "    else:\n",
        "      hafezProb = 0\n",
        "    if word in saadiPoems:\n",
        "      saadiProb *= saadiLikeliHood[word]\n",
        "    else:\n",
        "      saadiProb = 0"
      ],
      "execution_count": 0,
      "outputs": []
    },
    {
      "cell_type": "markdown",
      "metadata": {
        "id": "G9o1NlS5U_Fm",
        "colab_type": "text"
      },
      "source": [
        "زمانی که بهبود‌دهنده‌ی لاپلاس را نداریم، به ازای هر بیتی که در دیتاست تست قرار دارد، کلمه‌هایش را درمیاوریم. اگر کلمه نه در کلمه‌های دیده شده‌ی حافظ قرار داشته باشد و نه در کلمه‌های دیده شده‌ی سعدی، آن کلمه را ایگنور می‌کنیم و از آن می‌گذریم.\n",
        "اما اگر کلمه در بیت تست در هرکدام از کلمه‌های دیده شده‌ی دو شاعر قرار داشته باشد، احتمال شرطی آن کلمه به شرط شاعرش را از روی دیکشنری‌ای که قبلا خوانده بودیم به دست می‌آوریم.\n",
        "به ازای تمام کلمات توی بیت تست این کار را هم برای سعدی و هم برای حافظ انجام می‌دهیم. سپس این احتمال‌ها را در هم ضرب می‌کنیم.\n",
        "همچنین اگر کلمه‌ای در دیتاست یکی از شاعران نباشد، احتمال آن را صفر در نظر می‌گیریم."
      ]
    },
    {
      "cell_type": "markdown",
      "metadata": {
        "id": "fWuZJE0DoFND",
        "colab_type": "text"
      },
      "source": [
        "## Probability"
      ]
    },
    {
      "cell_type": "code",
      "metadata": {
        "id": "UthLQ6d4oJmd",
        "colab_type": "code",
        "colab": {}
      },
      "source": [
        "def prediction(dfTest, isEval, alpha):\n",
        "  if isEval:\n",
        "    with open('output.csv', mode='w') as out:\n",
        "      out = csv.writer(out, delimiter=',', quotechar='\"', quoting=csv.QUOTE_MINIMAL)\n",
        "      out.writerow([\"id\", \"ppoet\"])\n",
        "  else:\n",
        "    correctHafez, allHafez, detectedHafez, correctDetected, total = 0, 0, 0, 0, 0\n",
        "    total = len(dfTest)\n",
        "    for i in dfTest.index:\n",
        "      if dfTest[\"label\"][i] == \"hafez\":\n",
        "        allHafez += 1\n",
        "      \n",
        "  for i in dfTest.index:\n",
        "    testPoem = dfTest[\"text\"][i].split()\n",
        "    \n",
        "    if alpha > 0:\n",
        "      hafezProb, saadiProb = laplace(testPoem, alpha)\n",
        "    else:\n",
        "      hafezProb, saadiProb = withoutLaplace(testPoem)\n",
        "    \n",
        "    hafezProb *= hafezPriorProb\n",
        "    saadiProb *= saadiPriorProb\n",
        "\n",
        "    if isEval:\n",
        "      pred = \"\"\n",
        "      if hafezProb >= saadiProb:\n",
        "        pred = \"hafez\"\n",
        "      else:\n",
        "        pred = \"saadi\"\n",
        "      out.writerow([i, pred])\n",
        "    else:\n",
        "      if hafezProb >= saadiProb:\n",
        "        detectedHafez += 1\n",
        "        if \"hafez\" == dfTest[\"label\"][i]:\n",
        "          correctHafez += 1\n",
        "          correctDetected += 1\n",
        "      elif saadiProb > hafezProb:\n",
        "        if \"saadi\" == dfTest[\"label\"][i]:\n",
        "          correctDetected += 1\n",
        "\n",
        "  if not isEval:\n",
        "    recall = correctHafez / allHafez\n",
        "    precision = correctHafez / detectedHafez\n",
        "    accuracy = correctDetected / total\n",
        "\n",
        "    print(\"recall: \", recall)\n",
        "    print(\"precision: \", precision)\n",
        "    print(\"accuracy: \", accuracy)"
      ],
      "execution_count": 0,
      "outputs": []
    },
    {
      "cell_type": "markdown",
      "metadata": {
        "id": "58NBh5hnfKss",
        "colab_type": "text"
      },
      "source": [
        "## Test"
      ]
    },
    {
      "cell_type": "code",
      "metadata": {
        "id": "XH4sU_befNo8",
        "colab_type": "code",
        "colab": {
          "base_uri": "https://localhost:8080/",
          "height": 67
        },
        "outputId": "cfa85101-614a-408a-9bc4-db93cdf7c346"
      },
      "source": [
        "isEval = 0\n",
        "alpha = 0.3\n",
        "prediction(dataTest, isEval, alpha)"
      ],
      "execution_count": 34,
      "outputs": [
        {
          "output_type": "stream",
          "text": [
            "recall:  0.8265486725663717\n",
            "precision:  0.8839116719242902\n",
            "accuracy:  0.8855911919578746\n"
          ],
          "name": "stdout"
        }
      ]
    },
    {
      "cell_type": "markdown",
      "metadata": {
        "id": "i1_CtN_GlIP1",
        "colab_type": "text"
      },
      "source": [
        "## Evaluate"
      ]
    },
    {
      "cell_type": "code",
      "metadata": {
        "id": "1Exx37-uG9SK",
        "colab_type": "code",
        "colab": {}
      },
      "source": [
        "evalTest = pd.read_csv(\"evaluate.csv\")\n",
        "isEval = 1\n",
        "alpha = 0.3\n",
        "prediction(evalTest, isEval, alpha)"
      ],
      "execution_count": 0,
      "outputs": []
    },
    {
      "cell_type": "markdown",
      "metadata": {
        "id": "NDlmzK0hyWDH",
        "colab_type": "text"
      },
      "source": [
        "در این پروژه تعداد تکرار هر کلمه در شعرهای شعرا را به عنوان فیچر در نظر گرفتیم. سوالی که در پروژه مطرح است این است که احتمال اینکه شاعر یک شعر حافظ است یا سعدی به شرط آن که کلمه‌های داخل آن چه باشد. برای اینکه بتوانیم این احتمال را بررسی کنیم از قانون احتمال بیزی استفاده می‌کنیم. به این صورت که ابتدا احتمال هر فیچر که در اینجا تعداد تکرار کلمه‌ها در شعر شعرا است را به شرط هر شاعر حساب می‌کنیم. چون از ناییو بیز استفاده می‌کنیم شرایط را ساده تر فرض می‌کنیم. درواقع کلمات را مستقل از یکدیگر درنظر می‌گیریم. بنابراین این احتمال‌ها ضرب می‌شوند. سپس احتمال پرایور را حساب می‌کنیم که این همان تعداد شعرهای حافظ به کل شعرهای آمده شده در دیتاست ترین است. همچنین در مخرج هم احتمال آمدن یک کلمه را قرار می‌دهیم. یعنی تعداد تکرار یک کلمه در کل دیتاست ترین. \n",
        "همانطور که در راهنمایی هم آمده است برای مقایسه‌ی بین اینکه احتمال کدام شاعر بیشتر است از مخرج صرفه نظر می‌کنیم."
      ]
    },
    {
      "cell_type": "markdown",
      "metadata": {
        "id": "Qw1WnwYJ5QoT",
        "colab_type": "text"
      },
      "source": [
        "سوال اضافه اول:\n",
        "\n",
        "precision = true positive / (true positive + false positive)\n",
        "\n",
        "با توجه به فرمول بالا، پرسیژن اگر بالا باشد به این معنی است که فالس پازتیو عدد کمی است. به این معنی که تعداد بیت‌هایی که ما حافظ تشخیص دادیم اما واقعا حافظ نبوده‌اند کم بوده است.\n",
        "فرض کنید در یک دیتاستی ما یک بیت شعر را به درستی حافظ تشخیص داده‌ایم و بقیه را سعدی پیشگویی کرده‌ایم. در این حالت پرسیژن یک خواهد بود اما مدلی که ایجنت ما پیشبینی می‌کند، مدل خوبی نیست.*italicized text*\n"
      ]
    },
    {
      "cell_type": "markdown",
      "metadata": {
        "id": "S4nCo4rc6EqK",
        "colab_type": "text"
      },
      "source": [
        "سوال اضافه دوم:\n",
        "\n",
        "در مسائل \n",
        "\n",
        "unbalanced classification\n",
        "\n",
        "داده‌های یک کلاس خیلی بیشتر از یک کلاس دیگر هستند.\n",
        "\n",
        "accuracy = (true positive + true negative) / (true positive + false positive + true negative + false negative)\n",
        "\n",
        "با توجه به نعریف بالا زمانی اکیورسی بالایی می‌گیریم که تمام نمونه‌ها را در آن کلاسی که تعداد داده‌هایش بیشتر است قرار دهیم. در اینجا مثال سرطان داشتن بیان می‌شود. به عنوان مثال ۹۰٪ سرطان دارند و ۱۰٪ سرطان ندارند. در این حالت اگر ایجنت ما احتمال دهد که یک فرد جدید سرطان دارد، اکیورسی بالایی می‌گیرد.با اینکه واضح است که این مدل، مدل خوبی نیست  و عملا تشخیصی انجام نمی‌دهد. در این حالت بهتر است که اکیورسی پایین‌تری داشته باشیم."
      ]
    }
  ]
}